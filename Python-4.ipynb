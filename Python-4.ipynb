{
 "cells": [
  {
   "cell_type": "code",
   "execution_count": 12,
   "id": "2cf8e235-e9af-42a3-9e72-4794c76e637f",
   "metadata": {},
   "outputs": [
    {
     "name": "stdin",
     "output_type": "stream",
     "text": [
      "Enter age: 87\n"
     ]
    },
    {
     "name": "stdout",
     "output_type": "stream",
     "text": [
      "You are elder!\n"
     ]
    }
   ],
   "source": [
    "age = int(input(\"Enter age:\"))\n",
    "\n",
    "if age<=18:\n",
    "    print(\"You are young!\")\n",
    "else:\n",
    "    print(\"You are elder!\")"
   ]
  },
  {
   "cell_type": "code",
   "execution_count": 23,
   "id": "e68e18bf-1055-49a9-ba9e-e21e90e8a135",
   "metadata": {},
   "outputs": [
    {
     "name": "stdin",
     "output_type": "stream",
     "text": [
      "Enter amount: 60000\n"
     ]
    },
    {
     "name": "stdout",
     "output_type": "stream",
     "text": [
      "Discount: 10% - Rs. 6000.0\n",
      "Price after discount: Rs. 54000.0\n"
     ]
    }
   ],
   "source": [
    "bill = int(input(\"Enter amount:\"))\n",
    "\n",
    "if bill>50000:\n",
    "    discount=bill*0.1\n",
    "    discountedPrice=bill-discount\n",
    "    print(f\"Discount: 10% - Rs. {discount}\")\n",
    "    print(f\"Price after discount: Rs. {discountedPrice}\")\n",
    "else:\n",
    "    print(\"No Discount!\")"
   ]
  },
  {
   "cell_type": "code",
   "execution_count": 27,
   "id": "2a34b993-b95c-488b-bd17-36849a57a7e6",
   "metadata": {},
   "outputs": [
    {
     "name": "stdin",
     "output_type": "stream",
     "text": [
      "Enter your per annum salary: 5555555\n"
     ]
    },
    {
     "name": "stdout",
     "output_type": "stream",
     "text": [
      "You got taxed!\n",
      "Initial Salary: Rs. 5555555\n",
      "Tax: Rs. 277777.75\n",
      "Final Salary: Rs. 5277777.25\n"
     ]
    }
   ],
   "source": [
    "salarayPerAnnum= int(input(\"Enter your per annum salary:\"))\n",
    "if(salarayPerAnnum>=600000):\n",
    "    tax=salarayPerAnnum*.05\n",
    "    salaryAfterTax=salarayPerAnnum-tax\n",
    "    print(f\"You got taxed!\")\n",
    "    print(f\"Initial Salary: Rs. {salarayPerAnnum}\")\n",
    "    print(f\"Tax: Rs. {tax}\")\n",
    "    print(f\"Final Salary: Rs. {salaryAfterTax}\")\n",
    "else:\n",
    "    print(f\"Hurray! Your salary is tax-free\")"
   ]
  },
  {
   "cell_type": "code",
   "execution_count": null,
   "id": "bbfe77e8-a6cf-4b5d-ad7a-5a84efd8f324",
   "metadata": {},
   "outputs": [],
   "source": []
  }
 ],
 "metadata": {
  "kernelspec": {
   "display_name": "Python 3 (ipykernel)",
   "language": "python",
   "name": "python3"
  },
  "language_info": {
   "codemirror_mode": {
    "name": "ipython",
    "version": 3
   },
   "file_extension": ".py",
   "mimetype": "text/x-python",
   "name": "python",
   "nbconvert_exporter": "python",
   "pygments_lexer": "ipython3",
   "version": "3.12.7"
  }
 },
 "nbformat": 4,
 "nbformat_minor": 5
}
